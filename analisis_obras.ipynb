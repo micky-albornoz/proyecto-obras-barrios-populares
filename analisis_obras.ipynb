{
 "cells": [
  {
   "cell_type": "markdown",
   "id": "ab6e36a3",
   "metadata": {},
   "source": [
    "# Análisis Interactivo de Obras Públicas - GCBA\n",
    "\n",
    "Esta notebook se conecta a tablas de Google Sheets, carga datos de obras públicas, los cruza con información geoespacial de barrios populares de CABA y genera análisis y visualizaciones."
   ]
  },
  {
   "cell_type": "markdown",
   "id": "8d4797e4",
   "metadata": {},
   "source": [
    "## 1. Carga de Librerías"
   ]
  },
  {
   "cell_type": "code",
   "execution_count": null,
   "id": "f2c2184b",
   "metadata": {
    "vscode": {
     "languageId": "r"
    }
   },
   "outputs": [],
   "source": [
    "# --- 1. Carga de Librerías ---\n",
    "# Estas son las herramientas que usaremos para el análisis.\n",
    "# Previamente ejecutar install_packages.R para instalar las librerías necesarias.\n",
    "\n",
    "library(googlesheets4) # Nueva librería para conectar con Google Sheets\n",
    "library(dplyr)       # Para manipulación de datos\n",
    "library(ggplot2)     # Para gráficos estáticos\n",
    "library(sf)          # Para trabajar con datos geoespaciales\n",
    "library(leaflet)     # Para mapas interactivos\n",
    "library(lubridate)   # Para manejo de fechas\n",
    "library(cowplot)     # Para combinar gráficos\n",
    "library(htmlwidgets) # Para guardar los widgets HTML como el mapa"
   ]
  },
  {
   "cell_type": "markdown",
   "id": "b5d2b3e0",
   "metadata": {},
   "source": [
    "## 2. Autenticación con Google"
   ]
  },
  {
   "cell_type": "code",
   "execution_count": null,
   "id": "c210a5e7",
   "metadata": {
    "vscode": {
     "languageId": "r"
    }
   },
   "outputs": [],
   "source": [
    "# --- 2. Autenticación con Google ---\n",
    "# La primera vez que ejecutes esto, se abrirá un navegador para iniciar sesión\n",
    "# y autorizar a R a leer tus hojas de cálculo.\n",
    "gs4_auth()"
   ]
  },
  {
   "cell_type": "markdown",
   "id": "03c5b0f9",
   "metadata": {},
   "source": [
    "## 3. Carga de datos desde Google Sheets y Preprocesamiento"
   ]
  },
  {
   "cell_type": "code",
   "execution_count": null,
   "id": "40f40a3a",
   "metadata": {
    "vscode": {
     "languageId": "r"
    }
   },
   "outputs": [],
   "source": [
    "# --- 3. Carga de datos desde Google Sheets y Preprocesamiento ---\n",
    "# Pega aquí la URL completa de tu hoja de cálculo de Google.\n",
    "url_google_sheet <- \"https://docs.google.com/spreadsheets/d/xxxxxxxxxxxxxxxxxxxxxxxxxx/edit\"\n",
    "\n",
    "# Leemos cada hoja en un dataframe separado\n",
    "df_obras <- read_sheet(url_google_sheet, sheet = \"obras\")\n",
    "df_gastos <- read_sheet(url_google_sheet, sheet = \"gastos_obra\")\n",
    "\n",
    "# Preprocesamiento para separar la columna LatLong\n",
    "# Reemplaza \"nombre_columna_unificada\" con el nombre real de tu columna en Google Sheets\n",
    "df_obras <- df_obras %>%\n",
    "  separate(\n",
    "    col = nombre_columna_unificada,   # La columna que tiene \"-34.65, -58.39\"\n",
    "    into = c(\"latitud\", \"longitud\"),  # Los nombres de las dos nuevas columnas que crearemos\n",
    "    sep = \",\",                        # El caracter que usaremos para separar (la coma)\n",
    "    convert = TRUE                    # Convierte automáticamente el texto a números\n",
    "  )\n",
    "\n",
    "# Preprocesamiento de datos numéricos\n",
    "df_obras <- df_obras %>%\n",
    "  mutate(\n",
    "    presupuesto_adjudicado = as.numeric(presupuesto_adjudicado),\n",
    "    gastos_acumulados = as.numeric(gastos_acumulados)\n",
    "  )\n",
    "\n",
    "# Mostramos las primeras filas para verificar\n",
    "print(\"Datos de Obras cargados:\")\n",
    "head(df_obras)\n",
    "\n",
    "print(\"Datos de Gastos cargados:\")\n",
    "head(df_gastos)"
   ]
  },
  {
   "cell_type": "markdown",
   "id": "3703ea2c",
   "metadata": {},
   "source": [
    "## 4. Carga de datos geoespaciales (desde archivo local)"
   ]
  },
  {
   "cell_type": "code",
   "execution_count": null,
   "id": "84388b19",
   "metadata": {
    "vscode": {
     "languageId": "r"
    }
   },
   "outputs": [],
   "source": [
    "# --- 4. Carga de datos geoespaciales (desde Archivo Local) ---\n",
    "# Leemos el archivo GeoJSON de los barrios populares directamente desde el repositorio.\n",
    "\n",
    "# Nombre del archivo que subiste a tu repositorio\n",
    "archivo_geojson <- \"env_baplvi_mi.json\"\n",
    "\n",
    "barrios_populares <- read_sf(archivo_geojson)\n",
    "\n",
    "# Verificamos la estructura de los datos cargados\n",
    "print(\"Datos de barrios populares cargados exitosamente:\")\n",
    "print(barrios_populares)"
   ]
  },
  {
   "cell_type": "markdown",
   "id": "502b3b36",
   "metadata": {},
   "source": [
    "## 5. Análisis descriptivo"
   ]
  },
  {
   "cell_type": "code",
   "execution_count": null,
   "id": "cf2da575",
   "metadata": {
    "vscode": {
     "languageId": "r"
    }
   },
   "outputs": [],
   "source": [
    "# --- 5. Análisis descriptivo ---\n",
    "# Realizamos cálculos básicos para obtener una visión general del estado de las obras.\n",
    "\n",
    "presupuesto_total <- sum(df_obras$presupuesto_adjudicado, na.rm = TRUE)\n",
    "gasto_total <- sum(df_obras$gastos_acumulados, na.rm = TRUE)\n",
    "porcentaje_ejecutado <- (gasto_total / presupuesto_total) * 100\n",
    "\n",
    "# Imprimimos un resumen formateado\n",
    "cat(\"--- Resumen Financiero General ---\\n\")\n",
    "cat(paste(\"Presupuesto Total Adjudicado: $\", format(round(presupuesto_total, 2), big.mark = \".\", decimal.mark = \",\"), \"\\n\"))\n",
    "cat(paste(\"Gasto Total Acumulado: $\", format(round(gasto_total, 2), big.mark = \".\", decimal.mark = \",\"), \"\\n\"))\n",
    "cat(paste(\"Porcentaje de Ejecución Presupuestaria:\", round(porcentaje_ejecutado, 2), \"%\\n\\n\"))\n",
    "\n",
    "# Contamos cuántas obras hay en cada estado\n",
    "obras_por_estado <- df_obras %>%\n",
    "  group_by(estado_obra) %>%\n",
    "  summarise(Cantidad = n()) %>%\n",
    "  ungroup()\n",
    "\n",
    "print(\"Cantidad de obras por estado:\")\n",
    "print(obras_por_estado)"
   ]
  },
  {
   "cell_type": "markdown",
   "id": "cb3a9899",
   "metadata": {},
   "source": [
    "## 6. Visualización de datos (Gráficos estáticos)"
   ]
  },
  {
   "cell_type": "code",
   "execution_count": null,
   "id": "d6979c3f",
   "metadata": {
    "vscode": {
     "languageId": "r"
    }
   },
   "outputs": [],
   "source": [
    "# --- 6. Visualización de datos (gráficos estáticos) ---\n",
    "# Creamos gráficos para entender mejor la distribución del presupuesto y los tipos de obra.\n",
    "\n",
    "# Gráfico 1: Presupuesto por Contratista\n",
    "grafico_contratistas <- ggplot(df_obras, aes(x = reorder(contratista, -presupuesto_adjudicado), y = presupuesto_adjudicado)) +\n",
    "  geom_bar(stat = \"identity\", fill = \"#1A5276\") +\n",
    "  labs(title = \"Presupuesto Adjudicado por Contratista\", x = \"Contratista\", y = \"Presupuesto (en $)\") +\n",
    "  scale_y_continuous(labels = scales::dollar_format(prefix = \"$\", big.mark = \".\", decimal.mark = \",\")) +\n",
    "  theme_minimal() +\n",
    "  theme(axis.text.x = element_text(angle = 45, hjust = 1, size = 8), plot.title = element_text(hjust = 0.5, face = \"bold\"))\n",
    "\n",
    "# Gráfico 2: Cantidad de Obras por Tipo\n",
    "grafico_tipo_obra <- ggplot(df_obras, aes(x = reorder(tipo_obra, -table(tipo_obra)[tipo_obra]), fill = tipo_obra)) +\n",
    "  geom_bar() +\n",
    "  labs(title = \"Cantidad de Obras por Tipo\", x = \"Tipo de Obra\", y = \"Cantidad\") +\n",
    "  theme_minimal() +\n",
    "  theme(axis.text.x = element_text(angle = 45, hjust = 1, size = 8), plot.title = element_text(hjust = 0.5, face = \"bold\"), legend.position = \"none\")\n",
    "\n",
    "# Combinamos ambos gráficos en una sola imagen\n",
    "graficos_combinados <- plot_grid(grafico_contratistas, grafico_tipo_obra, ncol = 2)\n",
    "\n",
    "# Guardamos la imagen en el repositorio (útil para el README.md)\n",
    "ggsave(\"analisis_obras_graficos.png\", plot = graficos_combinados, width = 12, height = 6, dpi = 300)\n",
    "\n",
    "# Mostramos los gráficos combinados aquí mismo en la notebook\n",
    "graficos_combinados"
   ]
  },
  {
   "cell_type": "markdown",
   "id": "f0a3297b",
   "metadata": {},
   "source": [
    "## 7. Visualización geoespacial (Mapa interactivo)"
   ]
  },
  {
   "cell_type": "code",
   "execution_count": null,
   "id": "03a5e335",
   "metadata": {
    "vscode": {
     "languageId": "r"
    }
   },
   "outputs": [],
   "source": [
    "# --- 7. Visualización Geoespacial (Mapa Interactivo) ---\n",
    "# Creamos un mapa interactivo con Leaflet para ubicar las obras y superponer los polígonos de los barrios populares.\n",
    "\n",
    "obras_con_coords <- df_obras %>%\n",
    "  filter(!is.na(latitud) & !is.na(longitud) & latitud != 0 & longitud != 0)\n",
    "\n",
    "if (nrow(obras_con_coords) > 0) {\n",
    "  # Preparamos el texto para los popups del mapa, incluyendo la foto\n",
    "  obras_con_coords <- obras_con_coords %>%\n",
    "    mutate(popup_text = paste0(\"<b>Obra:</b> \", nombre_obra, \"<br>\",\n",
    "                               \"<b>Contratista:</b> \", contratista, \"<br>\",\n",
    "                               \"<b>Estado:</b> \", estado_obra, \"<br>\",\n",
    "                               \"<b>Presupuesto:</b> $\", format(round(presupuesto_adjudicado, 2), big.mark = \".\", decimal.mark = \",\"), \"<br>\",\n",
    "                               \"<a href='\", foto_principal_url, \"' target='_blank'>Ver Foto</a>\")) # Enlace a la foto\n",
    "\n",
    "  # Creamos el mapa Leaflet\n",
    "  mapa_obras <- leaflet(obras_con_coords) %>%\n",
    "    addProviderTiles(providers$CartoDB.Positron, group = \"Mapa Simple\") %>%\n",
    "    addProviderTiles(providers$Esri.WorldImagery, group = \"Satélite\") %>%\n",
    "    \n",
    "    # Añadimos los polígonos de barrios populares\n",
    "    addPolygons(data = barrios_populares,\n",
    "                fillColor = \"#F39C12\",\n",
    "                fillOpacity = 0.5,\n",
    "                color = \"#F39C12\",\n",
    "                weight = 1.5,\n",
    "                popup = ~paste0(\"<b>Barrio Popular:</b> \", nam), # Usamos la columna 'nam' del GeoJSON\n",
    "                group = \"Barrios Populares\") %>%\n",
    "\n",
    "    # Añadimos las obras como marcadores agrupados\n",
    "    addCircleMarkers(~longitud, ~latitud,\n",
    "                     radius = 6,\n",
    "                     color = \"#E74C3C\",\n",
    "                     fillOpacity = 0.8,\n",
    "                     stroke = TRUE,\n",
    "                     popup = ~popup_text,\n",
    "                     clusterOptions = markerClusterOptions(),\n",
    "                     group = \"Obras\") %>%\n",
    "    \n",
    "    # Añadimos el control de capas\n",
    "    addLayersControl(\n",
    "      baseGroups = c(\"Mapa Simple\", \"Satélite\"),\n",
    "      overlayGroups = c(\"Barrios Populares\", \"Obras\"),\n",
    "      options = layersControlOptions(collapsed = false)\n",
    "    )\n",
    "  \n",
    "  # Guardamos el mapa interactivo como un archivo HTML\n",
    "  saveWidget(mapa_obras, file = \"mapa_obras_interactivo.html\", selfcontained = TRUE)\n",
    "  \n",
    "  # Mostramos el mapa aquí mismo en la notebook\n",
    "  mapa_obras\n",
    "\n",
    "} else {\n",
    "  print(\"No hay obras con coordenadas válidas para mostrar en el mapa.\")\n",
    "}"
   ]
  },
  {
   "cell_type": "markdown",
   "id": "714417bd",
   "metadata": {},
   "source": []
  }
 ],
 "metadata": {
  "kernelspec": {
   "display_name": "R",
   "language": "R",
   "name": "ir"
  },
  "language_info": {
   "name": "R"
  }
 },
 "nbformat": 4,
 "nbformat_minor": 5
}
